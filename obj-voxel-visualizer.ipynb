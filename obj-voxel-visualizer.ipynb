{
 "cells": [
  {
   "cell_type": "markdown",
   "metadata": {},
   "source": [
    "### OBJ Mesh Voxel Visualization Tool\n",
    "*A utility to convert voxel data stored in a 3D array into mesh cubes in an OBJ file for visualizing, sharing, and rendering.*\n",
    "- Configured to accept voxel data stored in a numpy array (.npy).\n",
    "- *Does not* create a single body mesh for 3D printing purposes\n",
    "- Made to create obj files that can be easily shared or included in visuals/renders.  "
   ]
  },
  {
   "cell_type": "code",
   "execution_count": 1,
   "metadata": {},
   "outputs": [],
   "source": [
    "# Dependencies\n",
    "import obj_voxel_visualizer\n",
    "\n",
    "# For data collection, inline display, and plotting metrics\n",
    "import os\n",
    "import time\n",
    "import glob\n",
    "import pandas as pd\n",
    "import matplotlib.pyplot as plt"
   ]
  },
  {
   "cell_type": "markdown",
   "metadata": {},
   "source": [
    "#### Convert Numpy Voxel Array to OBJ Voxel Mesh Visual"
   ]
  },
  {
   "cell_type": "code",
   "execution_count": null,
   "metadata": {},
   "outputs": [],
   "source": [
    "# Voxel Array to Voxel Mesh Visual Functions\n",
    "\n"
   ]
  }
 ],
 "metadata": {
  "interpreter": {
   "hash": "9f5bc9b68ab5156f2af75e5f9ffdfb892c593ee250d5b4ae65a79c44daece197"
  },
  "kernelspec": {
   "display_name": "Python 3.10.5 ('venv': venv)",
   "language": "python",
   "name": "python3"
  },
  "language_info": {
   "codemirror_mode": {
    "name": "ipython",
    "version": 3
   },
   "file_extension": ".py",
   "mimetype": "text/x-python",
   "name": "python",
   "nbconvert_exporter": "python",
   "pygments_lexer": "ipython3",
   "version": "3.10.5"
  },
  "orig_nbformat": 4
 },
 "nbformat": 4,
 "nbformat_minor": 2
}
